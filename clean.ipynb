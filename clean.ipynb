{
 "cells": [
  {
   "cell_type": "code",
   "execution_count": 1,
   "metadata": {},
   "outputs": [],
   "source": [
    "import pandas as pd\n",
    "import requests\n",
    "import os\n",
    "import json\n",
    "import numpy as np\n",
    "import time"
   ]
  },
  {
   "cell_type": "code",
   "execution_count": 2,
   "metadata": {},
   "outputs": [],
   "source": [
    "pd.set_option('max_colwidth',400)"
   ]
  },
  {
   "cell_type": "code",
   "execution_count": 3,
   "metadata": {},
   "outputs": [],
   "source": [
    "df = pd.read_csv('mobike_shanghai_sample_updated.csv')"
   ]
  },
  {
   "cell_type": "code",
   "execution_count": 64,
   "metadata": {},
   "outputs": [
    {
     "name": "stdout",
     "output_type": "stream",
     "text": [
      "<class 'pandas.core.frame.DataFrame'>\n",
      "RangeIndex: 102361 entries, 0 to 102360\n",
      "Data columns (total 10 columns):\n",
      "orderid             102361 non-null int64\n",
      "bikeid              102361 non-null int64\n",
      "userid              102361 non-null int64\n",
      "start_time          102361 non-null object\n",
      "start_location_x    102361 non-null float64\n",
      "start_location_y    102361 non-null float64\n",
      "end_time            102361 non-null object\n",
      "end_location_x      102361 non-null float64\n",
      "end_location_y      102361 non-null float64\n",
      "track               102361 non-null object\n",
      "dtypes: float64(4), int64(3), object(3)\n",
      "memory usage: 7.8+ MB\n"
     ]
    }
   ],
   "source": [
    "df.info()"
   ]
  },
  {
   "cell_type": "code",
   "execution_count": 65,
   "metadata": {},
   "outputs": [
    {
     "data": {
      "text/html": [
       "<div>\n",
       "<style scoped>\n",
       "    .dataframe tbody tr th:only-of-type {\n",
       "        vertical-align: middle;\n",
       "    }\n",
       "\n",
       "    .dataframe tbody tr th {\n",
       "        vertical-align: top;\n",
       "    }\n",
       "\n",
       "    .dataframe thead th {\n",
       "        text-align: right;\n",
       "    }\n",
       "</style>\n",
       "<table border=\"1\" class=\"dataframe\">\n",
       "  <thead>\n",
       "    <tr style=\"text-align: right;\">\n",
       "      <th></th>\n",
       "      <th>orderid</th>\n",
       "      <th>bikeid</th>\n",
       "      <th>userid</th>\n",
       "      <th>start_time</th>\n",
       "      <th>start_location_x</th>\n",
       "      <th>start_location_y</th>\n",
       "      <th>end_time</th>\n",
       "      <th>end_location_x</th>\n",
       "      <th>end_location_y</th>\n",
       "      <th>track</th>\n",
       "    </tr>\n",
       "  </thead>\n",
       "  <tbody>\n",
       "    <tr>\n",
       "      <th>0</th>\n",
       "      <td>78387</td>\n",
       "      <td>158357</td>\n",
       "      <td>10080</td>\n",
       "      <td>2016-08-20 06:57</td>\n",
       "      <td>121.348</td>\n",
       "      <td>31.389</td>\n",
       "      <td>2016-08-20 07:04</td>\n",
       "      <td>121.357</td>\n",
       "      <td>31.388</td>\n",
       "      <td>121.347,31.392#121.348,31.389#121.349,31.390#121.350,31.390#121.351,31.390#121.351,31.391#121.352,31.391#121.353,31.391#121.353,31.394#121.354,31.391#121.355,31.391#121.356,31.389#121.356,31.390#121.356,31.391#121.357,31.388#121.357,31.389</td>\n",
       "    </tr>\n",
       "    <tr>\n",
       "      <th>1</th>\n",
       "      <td>891333</td>\n",
       "      <td>92776</td>\n",
       "      <td>6605</td>\n",
       "      <td>2016-08-29 19:09</td>\n",
       "      <td>121.508</td>\n",
       "      <td>31.279</td>\n",
       "      <td>2016-08-29 19:31</td>\n",
       "      <td>121.489</td>\n",
       "      <td>31.271</td>\n",
       "      <td>121.489,31.270#121.489,31.271#121.490,31.270#121.490,31.271#121.491,31.271#121.492,31.270#121.492,31.271#121.493,31.269#121.493,31.270#121.494,31.268#121.494,31.269#121.495,31.269#121.495,31.270#121.496,31.270#121.497,31.270#121.497,31.271#121.498,31.272#121.499,31.272#121.499,31.273#121.500,31.273#121.500,31.274#121.501,31.274#121.502,31.273#121.502,31.274#121.503,31.273#121.504,31.273#121.50...</td>\n",
       "    </tr>\n",
       "    <tr>\n",
       "      <th>2</th>\n",
       "      <td>1106623</td>\n",
       "      <td>152045</td>\n",
       "      <td>8876</td>\n",
       "      <td>2016-08-13 16:17</td>\n",
       "      <td>121.383</td>\n",
       "      <td>31.254</td>\n",
       "      <td>2016-08-13 16:36</td>\n",
       "      <td>121.405</td>\n",
       "      <td>31.248</td>\n",
       "      <td>121.381,31.251#121.382,31.251#121.382,31.252#121.382,31.253#121.382,31.254#121.383,31.250#121.383,31.251#121.383,31.254#121.384,31.250#121.385,31.250#121.386,31.250#121.387,31.250#121.387,31.251#121.388,31.251#121.388,31.252#121.389,31.251#121.389,31.252#121.390,31.251#121.391,31.251#121.392,31.251#121.393,31.248#121.393,31.250#121.394,31.248#121.394,31.249#121.394,31.250#121.395,31.248#121.39...</td>\n",
       "    </tr>\n",
       "    <tr>\n",
       "      <th>3</th>\n",
       "      <td>1389484</td>\n",
       "      <td>196259</td>\n",
       "      <td>10648</td>\n",
       "      <td>2016-08-23 21:34</td>\n",
       "      <td>121.484</td>\n",
       "      <td>31.320</td>\n",
       "      <td>2016-08-23 21:43</td>\n",
       "      <td>121.471</td>\n",
       "      <td>31.325</td>\n",
       "      <td>121.471,31.325#121.472,31.325#121.473,31.324#121.473,31.325#121.474,31.322#121.474,31.323#121.475,31.320#121.475,31.321#121.475,31.322#121.476,31.320#121.477,31.320#121.478,31.320#121.479,31.320#121.480,31.320#121.481,31.320#121.482,31.320#121.483,31.320#121.484,31.320</td>\n",
       "    </tr>\n",
       "    <tr>\n",
       "      <th>4</th>\n",
       "      <td>188537</td>\n",
       "      <td>78208</td>\n",
       "      <td>11735</td>\n",
       "      <td>2016-08-16 07:32</td>\n",
       "      <td>121.407</td>\n",
       "      <td>31.292</td>\n",
       "      <td>2016-08-16 07:41</td>\n",
       "      <td>121.418</td>\n",
       "      <td>31.288</td>\n",
       "      <td>121.407,31.291#121.407,31.292#121.408,31.291#121.411,31.288#121.414,31.288#121.417,31.288#121.418,31.287#121.418,31.288</td>\n",
       "    </tr>\n",
       "  </tbody>\n",
       "</table>\n",
       "</div>"
      ],
      "text/plain": [
       "   orderid  bikeid  userid        start_time  start_location_x  \\\n",
       "0    78387  158357   10080  2016-08-20 06:57           121.348   \n",
       "1   891333   92776    6605  2016-08-29 19:09           121.508   \n",
       "2  1106623  152045    8876  2016-08-13 16:17           121.383   \n",
       "3  1389484  196259   10648  2016-08-23 21:34           121.484   \n",
       "4   188537   78208   11735  2016-08-16 07:32           121.407   \n",
       "\n",
       "   start_location_y          end_time  end_location_x  end_location_y  \\\n",
       "0            31.389  2016-08-20 07:04         121.357          31.388   \n",
       "1            31.279  2016-08-29 19:31         121.489          31.271   \n",
       "2            31.254  2016-08-13 16:36         121.405          31.248   \n",
       "3            31.320  2016-08-23 21:43         121.471          31.325   \n",
       "4            31.292  2016-08-16 07:41         121.418          31.288   \n",
       "\n",
       "                                                                                                                                                                                                                                                                                                                                                                                                             track  \n",
       "0                                                                                                                                                                  121.347,31.392#121.348,31.389#121.349,31.390#121.350,31.390#121.351,31.390#121.351,31.391#121.352,31.391#121.353,31.391#121.353,31.394#121.354,31.391#121.355,31.391#121.356,31.389#121.356,31.390#121.356,31.391#121.357,31.388#121.357,31.389  \n",
       "1  121.489,31.270#121.489,31.271#121.490,31.270#121.490,31.271#121.491,31.271#121.492,31.270#121.492,31.271#121.493,31.269#121.493,31.270#121.494,31.268#121.494,31.269#121.495,31.269#121.495,31.270#121.496,31.270#121.497,31.270#121.497,31.271#121.498,31.272#121.499,31.272#121.499,31.273#121.500,31.273#121.500,31.274#121.501,31.274#121.502,31.273#121.502,31.274#121.503,31.273#121.504,31.273#121.50...  \n",
       "2  121.381,31.251#121.382,31.251#121.382,31.252#121.382,31.253#121.382,31.254#121.383,31.250#121.383,31.251#121.383,31.254#121.384,31.250#121.385,31.250#121.386,31.250#121.387,31.250#121.387,31.251#121.388,31.251#121.388,31.252#121.389,31.251#121.389,31.252#121.390,31.251#121.391,31.251#121.392,31.251#121.393,31.248#121.393,31.250#121.394,31.248#121.394,31.249#121.394,31.250#121.395,31.248#121.39...  \n",
       "3                                                                                                                                    121.471,31.325#121.472,31.325#121.473,31.324#121.473,31.325#121.474,31.322#121.474,31.323#121.475,31.320#121.475,31.321#121.475,31.322#121.476,31.320#121.477,31.320#121.478,31.320#121.479,31.320#121.480,31.320#121.481,31.320#121.482,31.320#121.483,31.320#121.484,31.320  \n",
       "4                                                                                                                                                                                                                                                                                          121.407,31.291#121.407,31.292#121.408,31.291#121.411,31.288#121.414,31.288#121.417,31.288#121.418,31.287#121.418,31.288  "
      ]
     },
     "execution_count": 65,
     "metadata": {},
     "output_type": "execute_result"
    }
   ],
   "source": [
    "df.head()"
   ]
  },
  {
   "cell_type": "code",
   "execution_count": 62,
   "metadata": {},
   "outputs": [
    {
     "data": {
      "text/plain": [
       "102361"
      ]
     },
     "execution_count": 62,
     "metadata": {},
     "output_type": "execute_result"
    }
   ],
   "source": [
    "df.orderid.nunique()"
   ]
  },
  {
   "cell_type": "code",
   "execution_count": 30,
   "metadata": {},
   "outputs": [],
   "source": [
    "df_t = pd.DataFrame()"
   ]
  },
  {
   "cell_type": "code",
   "execution_count": 31,
   "metadata": {},
   "outputs": [],
   "source": [
    "df_t['state'] = df.groupby(['userid']).count()['orderid']"
   ]
  },
  {
   "cell_type": "code",
   "execution_count": 32,
   "metadata": {},
   "outputs": [],
   "source": [
    "df = pd.merge(df, df_t, on = ['userid'], how = 'inner')"
   ]
  },
  {
   "cell_type": "code",
   "execution_count": 33,
   "metadata": {},
   "outputs": [
    {
     "data": {
      "text/html": [
       "<div>\n",
       "<style scoped>\n",
       "    .dataframe tbody tr th:only-of-type {\n",
       "        vertical-align: middle;\n",
       "    }\n",
       "\n",
       "    .dataframe tbody tr th {\n",
       "        vertical-align: top;\n",
       "    }\n",
       "\n",
       "    .dataframe thead th {\n",
       "        text-align: right;\n",
       "    }\n",
       "</style>\n",
       "<table border=\"1\" class=\"dataframe\">\n",
       "  <thead>\n",
       "    <tr style=\"text-align: right;\">\n",
       "      <th></th>\n",
       "      <th>orderid</th>\n",
       "      <th>bikeid</th>\n",
       "      <th>userid</th>\n",
       "      <th>start_time</th>\n",
       "      <th>start_location_x</th>\n",
       "      <th>start_location_y</th>\n",
       "      <th>end_time</th>\n",
       "      <th>end_location_x</th>\n",
       "      <th>end_location_y</th>\n",
       "      <th>track</th>\n",
       "      <th>state</th>\n",
       "    </tr>\n",
       "  </thead>\n",
       "  <tbody>\n",
       "    <tr>\n",
       "      <th>0</th>\n",
       "      <td>78387</td>\n",
       "      <td>158357</td>\n",
       "      <td>10080</td>\n",
       "      <td>2016-08-20 06:57</td>\n",
       "      <td>121.348</td>\n",
       "      <td>31.389</td>\n",
       "      <td>2016-08-20 07:04</td>\n",
       "      <td>121.357</td>\n",
       "      <td>31.388</td>\n",
       "      <td>121.347,31.392#121.348,31.389#121.349,31.390#121.350,31.390#121.351,31.390#121.351,31.391#121.352,31.391#121.353,31.391#121.353,31.394#121.354,31.391#121.355,31.391#121.356,31.389#121.356,31.390#121.356,31.391#121.357,31.388#121.357,31.389</td>\n",
       "      <td>6</td>\n",
       "    </tr>\n",
       "    <tr>\n",
       "      <th>1</th>\n",
       "      <td>256597</td>\n",
       "      <td>138691</td>\n",
       "      <td>10080</td>\n",
       "      <td>2016-08-17 07:08</td>\n",
       "      <td>121.437</td>\n",
       "      <td>31.330</td>\n",
       "      <td>2016-08-17 07:13</td>\n",
       "      <td>121.440</td>\n",
       "      <td>31.331</td>\n",
       "      <td>121.437,31.329#121.437,31.330#121.438,31.330#121.439,31.330#121.440,31.330#121.440,31.331</td>\n",
       "      <td>6</td>\n",
       "    </tr>\n",
       "    <tr>\n",
       "      <th>2</th>\n",
       "      <td>448255</td>\n",
       "      <td>94634</td>\n",
       "      <td>10080</td>\n",
       "      <td>2016-08-05 16:59</td>\n",
       "      <td>121.480</td>\n",
       "      <td>31.226</td>\n",
       "      <td>2016-08-05 17:13</td>\n",
       "      <td>121.463</td>\n",
       "      <td>31.225</td>\n",
       "      <td>121.463,31.224#121.463,31.225#121.464,31.224#121.465,31.224#121.466,31.224#121.467,31.223#121.467,31.224#121.468,31.223#121.469,31.223#121.470,31.223#121.471,31.223#121.472,31.223#121.473,31.223#121.473,31.224#121.474,31.224#121.475,31.224#121.476,31.224#121.476,31.225#121.477,31.225#121.478,31.226#121.479,31.226#121.480,31.226</td>\n",
       "      <td>6</td>\n",
       "    </tr>\n",
       "    <tr>\n",
       "      <th>3</th>\n",
       "      <td>283591</td>\n",
       "      <td>1663</td>\n",
       "      <td>10080</td>\n",
       "      <td>2016-08-05 14:35</td>\n",
       "      <td>121.478</td>\n",
       "      <td>31.215</td>\n",
       "      <td>2016-08-05 14:41</td>\n",
       "      <td>121.477</td>\n",
       "      <td>31.221</td>\n",
       "      <td>121.477,31.220#121.477,31.221#121.478,31.215#121.478,31.216#121.478,31.217#121.478,31.218#121.478,31.219#121.478,31.220</td>\n",
       "      <td>6</td>\n",
       "    </tr>\n",
       "    <tr>\n",
       "      <th>4</th>\n",
       "      <td>1260579</td>\n",
       "      <td>171434</td>\n",
       "      <td>10080</td>\n",
       "      <td>2016-08-12 17:54</td>\n",
       "      <td>121.482</td>\n",
       "      <td>31.281</td>\n",
       "      <td>2016-08-12 18:02</td>\n",
       "      <td>121.475</td>\n",
       "      <td>31.288</td>\n",
       "      <td>121.475,31.288#121.476,31.288#121.477,31.286#121.477,31.287#121.477,31.288#121.478,31.286#121.479,31.286#121.480,31.285#121.480,31.286#121.481,31.282#121.481,31.283#121.481,31.284#121.481,31.285#121.482,31.282</td>\n",
       "      <td>6</td>\n",
       "    </tr>\n",
       "  </tbody>\n",
       "</table>\n",
       "</div>"
      ],
      "text/plain": [
       "   orderid  bikeid  userid        start_time  start_location_x  \\\n",
       "0    78387  158357   10080  2016-08-20 06:57           121.348   \n",
       "1   256597  138691   10080  2016-08-17 07:08           121.437   \n",
       "2   448255   94634   10080  2016-08-05 16:59           121.480   \n",
       "3   283591    1663   10080  2016-08-05 14:35           121.478   \n",
       "4  1260579  171434   10080  2016-08-12 17:54           121.482   \n",
       "\n",
       "   start_location_y          end_time  end_location_x  end_location_y  \\\n",
       "0            31.389  2016-08-20 07:04         121.357          31.388   \n",
       "1            31.330  2016-08-17 07:13         121.440          31.331   \n",
       "2            31.226  2016-08-05 17:13         121.463          31.225   \n",
       "3            31.215  2016-08-05 14:41         121.477          31.221   \n",
       "4            31.281  2016-08-12 18:02         121.475          31.288   \n",
       "\n",
       "                                                                                                                                                                                                                                                                                                                                       track  \\\n",
       "0                                                                                            121.347,31.392#121.348,31.389#121.349,31.390#121.350,31.390#121.351,31.390#121.351,31.391#121.352,31.391#121.353,31.391#121.353,31.394#121.354,31.391#121.355,31.391#121.356,31.389#121.356,31.390#121.356,31.391#121.357,31.388#121.357,31.389   \n",
       "1                                                                                                                                                                                                                                                  121.437,31.329#121.437,31.330#121.438,31.330#121.439,31.330#121.440,31.330#121.440,31.331   \n",
       "2  121.463,31.224#121.463,31.225#121.464,31.224#121.465,31.224#121.466,31.224#121.467,31.223#121.467,31.224#121.468,31.223#121.469,31.223#121.470,31.223#121.471,31.223#121.472,31.223#121.473,31.223#121.473,31.224#121.474,31.224#121.475,31.224#121.476,31.224#121.476,31.225#121.477,31.225#121.478,31.226#121.479,31.226#121.480,31.226   \n",
       "3                                                                                                                                                                                                                    121.477,31.220#121.477,31.221#121.478,31.215#121.478,31.216#121.478,31.217#121.478,31.218#121.478,31.219#121.478,31.220   \n",
       "4                                                                                                                          121.475,31.288#121.476,31.288#121.477,31.286#121.477,31.287#121.477,31.288#121.478,31.286#121.479,31.286#121.480,31.285#121.480,31.286#121.481,31.282#121.481,31.283#121.481,31.284#121.481,31.285#121.482,31.282   \n",
       "\n",
       "   state  \n",
       "0      6  \n",
       "1      6  \n",
       "2      6  \n",
       "3      6  \n",
       "4      6  "
      ]
     },
     "execution_count": 33,
     "metadata": {},
     "output_type": "execute_result"
    }
   ],
   "source": [
    "df.head()"
   ]
  },
  {
   "cell_type": "code",
   "execution_count": 10,
   "metadata": {},
   "outputs": [
    {
     "data": {
      "text/plain": [
       "老客户     76766\n",
       "粘性客户    24401\n",
       "新客户      1194\n",
       "Name: user_level, dtype: int64"
      ]
     },
     "execution_count": 10,
     "metadata": {},
     "output_type": "execute_result"
    }
   ],
   "source": [
    "df.user_level.value_counts()"
   ]
  },
  {
   "cell_type": "code",
   "execution_count": 5,
   "metadata": {},
   "outputs": [],
   "source": [
    "def add_user_state(df):\n",
    "    start_time = time.time()\n",
    "    df = df.apply(lambda x: user_state(x), axis = 1)\n",
    "    end_time = time.time()\n",
    "    print(\"add_user_state()用时：\" + str((end_time - start_time)/60) + \"分钟\")\n",
    "    return df"
   ]
  },
  {
   "cell_type": "code",
   "execution_count": 6,
   "metadata": {},
   "outputs": [],
   "source": [
    "def user_state(data):\n",
    "    if data['state'] == 1:\n",
    "        data['user_level'] = '新客户'\n",
    "    if data['state'] <= 10 and data['state'] > 1:\n",
    "        data['user_level'] = '老客户'\n",
    "    if data['state'] > 10:\n",
    "        data['user_level'] = '粘性客户'\n",
    "    return data"
   ]
  },
  {
   "cell_type": "code",
   "execution_count": 7,
   "metadata": {},
   "outputs": [
    {
     "name": "stdout",
     "output_type": "stream",
     "text": [
      "add_user_state()用时：0.23087348540623984分钟\n"
     ]
    }
   ],
   "source": [
    "df = add_user_state(df)"
   ]
  },
  {
   "cell_type": "code",
   "execution_count": 13,
   "metadata": {},
   "outputs": [
    {
     "data": {
      "text/html": [
       "<div>\n",
       "<style scoped>\n",
       "    .dataframe tbody tr th:only-of-type {\n",
       "        vertical-align: middle;\n",
       "    }\n",
       "\n",
       "    .dataframe tbody tr th {\n",
       "        vertical-align: top;\n",
       "    }\n",
       "\n",
       "    .dataframe thead th {\n",
       "        text-align: right;\n",
       "    }\n",
       "</style>\n",
       "<table border=\"1\" class=\"dataframe\">\n",
       "  <thead>\n",
       "    <tr style=\"text-align: right;\">\n",
       "      <th></th>\n",
       "      <th>orderid</th>\n",
       "      <th>bikeid</th>\n",
       "      <th>userid</th>\n",
       "      <th>start_time</th>\n",
       "      <th>start_location_x</th>\n",
       "      <th>start_location_y</th>\n",
       "      <th>end_time</th>\n",
       "      <th>end_location_x</th>\n",
       "      <th>end_location_y</th>\n",
       "      <th>track</th>\n",
       "      <th>state</th>\n",
       "      <th>user_level</th>\n",
       "    </tr>\n",
       "  </thead>\n",
       "  <tbody>\n",
       "    <tr>\n",
       "      <th>0</th>\n",
       "      <td>78387</td>\n",
       "      <td>158357</td>\n",
       "      <td>10080</td>\n",
       "      <td>2016-08-20 06:57</td>\n",
       "      <td>121.348</td>\n",
       "      <td>31.389</td>\n",
       "      <td>2016-08-20 07:04</td>\n",
       "      <td>121.357</td>\n",
       "      <td>31.388</td>\n",
       "      <td>121.347,31.392#121.348,31.389#121.349,31.390#121.350,31.390#121.351,31.390#121.351,31.391#121.352,31.391#121.353,31.391#121.353,31.394#121.354,31.391#121.355,31.391#121.356,31.389#121.356,31.390#121.356,31.391#121.357,31.388#121.357,31.389</td>\n",
       "      <td>6</td>\n",
       "      <td>老客户</td>\n",
       "    </tr>\n",
       "    <tr>\n",
       "      <th>1</th>\n",
       "      <td>256597</td>\n",
       "      <td>138691</td>\n",
       "      <td>10080</td>\n",
       "      <td>2016-08-17 07:08</td>\n",
       "      <td>121.437</td>\n",
       "      <td>31.330</td>\n",
       "      <td>2016-08-17 07:13</td>\n",
       "      <td>121.440</td>\n",
       "      <td>31.331</td>\n",
       "      <td>121.437,31.329#121.437,31.330#121.438,31.330#121.439,31.330#121.440,31.330#121.440,31.331</td>\n",
       "      <td>6</td>\n",
       "      <td>老客户</td>\n",
       "    </tr>\n",
       "    <tr>\n",
       "      <th>2</th>\n",
       "      <td>448255</td>\n",
       "      <td>94634</td>\n",
       "      <td>10080</td>\n",
       "      <td>2016-08-05 16:59</td>\n",
       "      <td>121.480</td>\n",
       "      <td>31.226</td>\n",
       "      <td>2016-08-05 17:13</td>\n",
       "      <td>121.463</td>\n",
       "      <td>31.225</td>\n",
       "      <td>121.463,31.224#121.463,31.225#121.464,31.224#121.465,31.224#121.466,31.224#121.467,31.223#121.467,31.224#121.468,31.223#121.469,31.223#121.470,31.223#121.471,31.223#121.472,31.223#121.473,31.223#121.473,31.224#121.474,31.224#121.475,31.224#121.476,31.224#121.476,31.225#121.477,31.225#121.478,31.226#121.479,31.226#121.480,31.226</td>\n",
       "      <td>6</td>\n",
       "      <td>老客户</td>\n",
       "    </tr>\n",
       "    <tr>\n",
       "      <th>3</th>\n",
       "      <td>283591</td>\n",
       "      <td>1663</td>\n",
       "      <td>10080</td>\n",
       "      <td>2016-08-05 14:35</td>\n",
       "      <td>121.478</td>\n",
       "      <td>31.215</td>\n",
       "      <td>2016-08-05 14:41</td>\n",
       "      <td>121.477</td>\n",
       "      <td>31.221</td>\n",
       "      <td>121.477,31.220#121.477,31.221#121.478,31.215#121.478,31.216#121.478,31.217#121.478,31.218#121.478,31.219#121.478,31.220</td>\n",
       "      <td>6</td>\n",
       "      <td>老客户</td>\n",
       "    </tr>\n",
       "    <tr>\n",
       "      <th>4</th>\n",
       "      <td>1260579</td>\n",
       "      <td>171434</td>\n",
       "      <td>10080</td>\n",
       "      <td>2016-08-12 17:54</td>\n",
       "      <td>121.482</td>\n",
       "      <td>31.281</td>\n",
       "      <td>2016-08-12 18:02</td>\n",
       "      <td>121.475</td>\n",
       "      <td>31.288</td>\n",
       "      <td>121.475,31.288#121.476,31.288#121.477,31.286#121.477,31.287#121.477,31.288#121.478,31.286#121.479,31.286#121.480,31.285#121.480,31.286#121.481,31.282#121.481,31.283#121.481,31.284#121.481,31.285#121.482,31.282</td>\n",
       "      <td>6</td>\n",
       "      <td>老客户</td>\n",
       "    </tr>\n",
       "  </tbody>\n",
       "</table>\n",
       "</div>"
      ],
      "text/plain": [
       "   orderid  bikeid  userid        start_time  start_location_x  \\\n",
       "0    78387  158357   10080  2016-08-20 06:57           121.348   \n",
       "1   256597  138691   10080  2016-08-17 07:08           121.437   \n",
       "2   448255   94634   10080  2016-08-05 16:59           121.480   \n",
       "3   283591    1663   10080  2016-08-05 14:35           121.478   \n",
       "4  1260579  171434   10080  2016-08-12 17:54           121.482   \n",
       "\n",
       "   start_location_y          end_time  end_location_x  end_location_y  \\\n",
       "0            31.389  2016-08-20 07:04         121.357          31.388   \n",
       "1            31.330  2016-08-17 07:13         121.440          31.331   \n",
       "2            31.226  2016-08-05 17:13         121.463          31.225   \n",
       "3            31.215  2016-08-05 14:41         121.477          31.221   \n",
       "4            31.281  2016-08-12 18:02         121.475          31.288   \n",
       "\n",
       "                                                                                                                                                                                                                                                                                                                                       track  \\\n",
       "0                                                                                            121.347,31.392#121.348,31.389#121.349,31.390#121.350,31.390#121.351,31.390#121.351,31.391#121.352,31.391#121.353,31.391#121.353,31.394#121.354,31.391#121.355,31.391#121.356,31.389#121.356,31.390#121.356,31.391#121.357,31.388#121.357,31.389   \n",
       "1                                                                                                                                                                                                                                                  121.437,31.329#121.437,31.330#121.438,31.330#121.439,31.330#121.440,31.330#121.440,31.331   \n",
       "2  121.463,31.224#121.463,31.225#121.464,31.224#121.465,31.224#121.466,31.224#121.467,31.223#121.467,31.224#121.468,31.223#121.469,31.223#121.470,31.223#121.471,31.223#121.472,31.223#121.473,31.223#121.473,31.224#121.474,31.224#121.475,31.224#121.476,31.224#121.476,31.225#121.477,31.225#121.478,31.226#121.479,31.226#121.480,31.226   \n",
       "3                                                                                                                                                                                                                    121.477,31.220#121.477,31.221#121.478,31.215#121.478,31.216#121.478,31.217#121.478,31.218#121.478,31.219#121.478,31.220   \n",
       "4                                                                                                                          121.475,31.288#121.476,31.288#121.477,31.286#121.477,31.287#121.477,31.288#121.478,31.286#121.479,31.286#121.480,31.285#121.480,31.286#121.481,31.282#121.481,31.283#121.481,31.284#121.481,31.285#121.482,31.282   \n",
       "\n",
       "   state user_level  \n",
       "0      6        老客户  \n",
       "1      6        老客户  \n",
       "2      6        老客户  \n",
       "3      6        老客户  \n",
       "4      6        老客户  "
      ]
     },
     "execution_count": 13,
     "metadata": {},
     "output_type": "execute_result"
    }
   ],
   "source": [
    "df.head()"
   ]
  },
  {
   "cell_type": "code",
   "execution_count": 12,
   "metadata": {},
   "outputs": [],
   "source": [
    "df.to_csv('mobike_shanghai_sample_updated.csv', index=False)"
   ]
  },
  {
   "cell_type": "code",
   "execution_count": 4,
   "metadata": {},
   "outputs": [],
   "source": [
    "df_l = df[['orderid', 'start_location_x', 'start_location_y', 'end_location_x', 'end_location_y']]"
   ]
  },
  {
   "cell_type": "code",
   "execution_count": 5,
   "metadata": {},
   "outputs": [
    {
     "name": "stdout",
     "output_type": "stream",
     "text": [
      "<class 'pandas.core.frame.DataFrame'>\n",
      "RangeIndex: 102361 entries, 0 to 102360\n",
      "Data columns (total 5 columns):\n",
      "orderid             102361 non-null int64\n",
      "start_location_x    102361 non-null float64\n",
      "start_location_y    102361 non-null float64\n",
      "end_location_x      102361 non-null float64\n",
      "end_location_y      102361 non-null float64\n",
      "dtypes: float64(4), int64(1)\n",
      "memory usage: 3.9 MB\n"
     ]
    }
   ],
   "source": [
    "df_l.info()"
   ]
  },
  {
   "cell_type": "code",
   "execution_count": 6,
   "metadata": {},
   "outputs": [],
   "source": [
    "import geopy.geocoders\n",
    "from geopy.geocoders import Baidu\n",
    "geopy.geocoders.options.default_user_agent = 'mobike'\n",
    "geopy.geocoders.options.default_timeout = 60000"
   ]
  },
  {
   "cell_type": "code",
   "execution_count": 7,
   "metadata": {},
   "outputs": [],
   "source": [
    "geolocator = Baidu(api_key='PvP87YrUMvAKmbR2FeSOExP47MViQKlr')"
   ]
  },
  {
   "cell_type": "markdown",
   "metadata": {},
   "source": [
    "测试"
   ]
  },
  {
   "cell_type": "code",
   "execution_count": 9,
   "metadata": {},
   "outputs": [
    {
     "name": "stdout",
     "output_type": "stream",
     "text": [
      "上海市宝山区美文路\n"
     ]
    }
   ],
   "source": [
    "a = geolocator.reverse((31.389, 121.348)).address.decode('utf-8')\n",
    "print(a)"
   ]
  },
  {
   "cell_type": "code",
   "execution_count": 24,
   "metadata": {},
   "outputs": [],
   "source": [
    "def add_location(df):\n",
    "    start_time = time.time()\n",
    "    df['start_loction'] = df.apply(lambda x: geolocator.reverse(query=(x['start_location_y'], x['start_location_x'])).address.decode('utf-8'), axis = 1)\n",
    "    df['end_loction'] = df.apply(lambda x: geolocator.reverse(query=(x['end_location_y'], x['end_location_x'])).address.decode('utf-8'), axis = 1)\n",
    "    end_time = time.time()\n",
    "    print(\"add_location()用时：\" + str((end_time - start_time)/60) + \"分钟\")\n",
    "    return df"
   ]
  },
  {
   "cell_type": "code",
   "execution_count": 21,
   "metadata": {},
   "outputs": [],
   "source": [
    "df_1000 = df_l.iloc[0:1000, :]"
   ]
  },
  {
   "cell_type": "code",
   "execution_count": 22,
   "metadata": {},
   "outputs": [
    {
     "name": "stderr",
     "output_type": "stream",
     "text": [
      "/Users/xiong/anaconda3/lib/python3.7/site-packages/ipykernel_launcher.py:3: SettingWithCopyWarning: \n",
      "A value is trying to be set on a copy of a slice from a DataFrame.\n",
      "Try using .loc[row_indexer,col_indexer] = value instead\n",
      "\n",
      "See the caveats in the documentation: http://pandas.pydata.org/pandas-docs/stable/indexing.html#indexing-view-versus-copy\n",
      "  This is separate from the ipykernel package so we can avoid doing imports until\n"
     ]
    },
    {
     "name": "stdout",
     "output_type": "stream",
     "text": [
      "add_location()用时：494.19729685783386\n"
     ]
    },
    {
     "name": "stderr",
     "output_type": "stream",
     "text": [
      "/Users/xiong/anaconda3/lib/python3.7/site-packages/ipykernel_launcher.py:4: SettingWithCopyWarning: \n",
      "A value is trying to be set on a copy of a slice from a DataFrame.\n",
      "Try using .loc[row_indexer,col_indexer] = value instead\n",
      "\n",
      "See the caveats in the documentation: http://pandas.pydata.org/pandas-docs/stable/indexing.html#indexing-view-versus-copy\n",
      "  after removing the cwd from sys.path.\n"
     ]
    }
   ],
   "source": [
    "df_1000 = add_location(df_1000)"
   ]
  },
  {
   "cell_type": "code",
   "execution_count": 23,
   "metadata": {},
   "outputs": [
    {
     "data": {
      "text/html": [
       "<div>\n",
       "<style scoped>\n",
       "    .dataframe tbody tr th:only-of-type {\n",
       "        vertical-align: middle;\n",
       "    }\n",
       "\n",
       "    .dataframe tbody tr th {\n",
       "        vertical-align: top;\n",
       "    }\n",
       "\n",
       "    .dataframe thead th {\n",
       "        text-align: right;\n",
       "    }\n",
       "</style>\n",
       "<table border=\"1\" class=\"dataframe\">\n",
       "  <thead>\n",
       "    <tr style=\"text-align: right;\">\n",
       "      <th></th>\n",
       "      <th>orderid</th>\n",
       "      <th>start_location_x</th>\n",
       "      <th>start_location_y</th>\n",
       "      <th>end_location_x</th>\n",
       "      <th>end_location_y</th>\n",
       "      <th>start_loction</th>\n",
       "      <th>end_loction</th>\n",
       "    </tr>\n",
       "  </thead>\n",
       "  <tbody>\n",
       "    <tr>\n",
       "      <th>0</th>\n",
       "      <td>78387</td>\n",
       "      <td>121.348</td>\n",
       "      <td>31.389</td>\n",
       "      <td>121.357</td>\n",
       "      <td>31.388</td>\n",
       "      <td>上海市宝山区美文路</td>\n",
       "      <td>上海市宝山区长联路357号-临</td>\n",
       "    </tr>\n",
       "    <tr>\n",
       "      <th>1</th>\n",
       "      <td>891333</td>\n",
       "      <td>121.508</td>\n",
       "      <td>31.279</td>\n",
       "      <td>121.489</td>\n",
       "      <td>31.271</td>\n",
       "      <td>上海市虹口区阜新路180弄1号西</td>\n",
       "      <td>上海市虹口区四川北路2084号</td>\n",
       "    </tr>\n",
       "    <tr>\n",
       "      <th>2</th>\n",
       "      <td>1106623</td>\n",
       "      <td>121.383</td>\n",
       "      <td>31.254</td>\n",
       "      <td>121.405</td>\n",
       "      <td>31.248</td>\n",
       "      <td>上海市嘉定区梅川路1558弄-39号</td>\n",
       "      <td>上海市普陀区梅岭北路992弄18号</td>\n",
       "    </tr>\n",
       "    <tr>\n",
       "      <th>3</th>\n",
       "      <td>1389484</td>\n",
       "      <td>121.484</td>\n",
       "      <td>31.320</td>\n",
       "      <td>121.471</td>\n",
       "      <td>31.325</td>\n",
       "      <td>上海市虹口区安汾路588号</td>\n",
       "      <td>上海市闸北区阳泉路693号</td>\n",
       "    </tr>\n",
       "    <tr>\n",
       "      <th>4</th>\n",
       "      <td>188537</td>\n",
       "      <td>121.407</td>\n",
       "      <td>31.292</td>\n",
       "      <td>121.418</td>\n",
       "      <td>31.288</td>\n",
       "      <td>上海市普陀区真大路410号</td>\n",
       "      <td>上海市宝山区真华路1376号</td>\n",
       "    </tr>\n",
       "    <tr>\n",
       "      <th>5</th>\n",
       "      <td>537030</td>\n",
       "      <td>121.488</td>\n",
       "      <td>31.224</td>\n",
       "      <td>121.468</td>\n",
       "      <td>31.233</td>\n",
       "      <td>上海市黄浦区复兴中路71号</td>\n",
       "      <td>上海市静安区威海路523号</td>\n",
       "    </tr>\n",
       "    <tr>\n",
       "      <th>6</th>\n",
       "      <td>517706</td>\n",
       "      <td>121.445</td>\n",
       "      <td>31.176</td>\n",
       "      <td>121.447</td>\n",
       "      <td>31.192</td>\n",
       "      <td>上海市徐汇区漕东支路218弄1号501室</td>\n",
       "      <td>上海市徐汇区零陵路777弄77</td>\n",
       "    </tr>\n",
       "    <tr>\n",
       "      <th>7</th>\n",
       "      <td>270836</td>\n",
       "      <td>121.369</td>\n",
       "      <td>31.252</td>\n",
       "      <td>121.376</td>\n",
       "      <td>31.233</td>\n",
       "      <td>上海市嘉定区丰庄路303号</td>\n",
       "      <td>上海市普陀区云岭西路</td>\n",
       "    </tr>\n",
       "    <tr>\n",
       "      <th>8</th>\n",
       "      <td>441362</td>\n",
       "      <td>121.529</td>\n",
       "      <td>31.324</td>\n",
       "      <td>121.532</td>\n",
       "      <td>31.323</td>\n",
       "      <td>上海市杨浦区国和路858号</td>\n",
       "      <td>上海市杨浦区世界路51号</td>\n",
       "    </tr>\n",
       "    <tr>\n",
       "      <th>9</th>\n",
       "      <td>76435</td>\n",
       "      <td>121.467</td>\n",
       "      <td>31.320</td>\n",
       "      <td>121.447</td>\n",
       "      <td>31.318</td>\n",
       "      <td>上海市闸北区阳曲路470弄-1号</td>\n",
       "      <td>上海市闸北区三泉路1495号</td>\n",
       "    </tr>\n",
       "  </tbody>\n",
       "</table>\n",
       "</div>"
      ],
      "text/plain": [
       "   orderid  start_location_x  start_location_y  end_location_x  \\\n",
       "0    78387           121.348            31.389         121.357   \n",
       "1   891333           121.508            31.279         121.489   \n",
       "2  1106623           121.383            31.254         121.405   \n",
       "3  1389484           121.484            31.320         121.471   \n",
       "4   188537           121.407            31.292         121.418   \n",
       "5   537030           121.488            31.224         121.468   \n",
       "6   517706           121.445            31.176         121.447   \n",
       "7   270836           121.369            31.252         121.376   \n",
       "8   441362           121.529            31.324         121.532   \n",
       "9    76435           121.467            31.320         121.447   \n",
       "\n",
       "   end_location_y         start_loction        end_loction  \n",
       "0          31.388             上海市宝山区美文路    上海市宝山区长联路357号-临  \n",
       "1          31.271      上海市虹口区阜新路180弄1号西    上海市虹口区四川北路2084号  \n",
       "2          31.248    上海市嘉定区梅川路1558弄-39号  上海市普陀区梅岭北路992弄18号  \n",
       "3          31.325         上海市虹口区安汾路588号      上海市闸北区阳泉路693号  \n",
       "4          31.288         上海市普陀区真大路410号     上海市宝山区真华路1376号  \n",
       "5          31.233         上海市黄浦区复兴中路71号      上海市静安区威海路523号  \n",
       "6          31.192  上海市徐汇区漕东支路218弄1号501室    上海市徐汇区零陵路777弄77  \n",
       "7          31.233         上海市嘉定区丰庄路303号         上海市普陀区云岭西路  \n",
       "8          31.323         上海市杨浦区国和路858号       上海市杨浦区世界路51号  \n",
       "9          31.318      上海市闸北区阳曲路470弄-1号     上海市闸北区三泉路1495号  "
      ]
     },
     "execution_count": 23,
     "metadata": {},
     "output_type": "execute_result"
    }
   ],
   "source": [
    "df_1000.head(10)"
   ]
  },
  {
   "cell_type": "code",
   "execution_count": 22,
   "metadata": {},
   "outputs": [],
   "source": [
    "def json_to_df(json_url):\n",
    "    response = requests.get(json_url)\n",
    "    answer = response.json()\n",
    "    df_json = pd.DataFrame(answer['features'])\n",
    "    return df_json"
   ]
  },
  {
   "cell_type": "markdown",
   "metadata": {},
   "source": [
    "将json文件读取到DataFrame df_json，进行了数据清洗"
   ]
  },
  {
   "cell_type": "code",
   "execution_count": 21,
   "metadata": {},
   "outputs": [
    {
     "ename": "TypeError",
     "evalue": "list indices must be integers or slices, not str",
     "output_type": "error",
     "traceback": [
      "\u001b[0;31m---------------------------------------------------------------------------\u001b[0m",
      "\u001b[0;31mTypeError\u001b[0m                                 Traceback (most recent call last)",
      "\u001b[0;32m<ipython-input-21-195bafb7825d>\u001b[0m in \u001b[0;36m<module>\u001b[0;34m\u001b[0m\n\u001b[0;32m----> 1\u001b[0;31m \u001b[0mdf_json\u001b[0m \u001b[0;34m=\u001b[0m \u001b[0mjson_to_df\u001b[0m\u001b[0;34m(\u001b[0m\u001b[0;34m'https://geo.datav.aliyun.com/areas/bound/310000_full.json'\u001b[0m\u001b[0;34m)\u001b[0m\u001b[0;34m\u001b[0m\u001b[0;34m\u001b[0m\u001b[0m\n\u001b[0m",
      "\u001b[0;32m<ipython-input-20-1a5ee6e29b26>\u001b[0m in \u001b[0;36mjson_to_df\u001b[0;34m(json_url)\u001b[0m\n\u001b[1;32m      2\u001b[0m     \u001b[0mresponse\u001b[0m \u001b[0;34m=\u001b[0m \u001b[0mrequests\u001b[0m\u001b[0;34m.\u001b[0m\u001b[0mget\u001b[0m\u001b[0;34m(\u001b[0m\u001b[0mjson_url\u001b[0m\u001b[0;34m)\u001b[0m\u001b[0;34m\u001b[0m\u001b[0;34m\u001b[0m\u001b[0m\n\u001b[1;32m      3\u001b[0m     \u001b[0manswer\u001b[0m \u001b[0;34m=\u001b[0m \u001b[0mresponse\u001b[0m\u001b[0;34m.\u001b[0m\u001b[0mjson\u001b[0m\u001b[0;34m(\u001b[0m\u001b[0;34m)\u001b[0m\u001b[0;34m\u001b[0m\u001b[0;34m\u001b[0m\u001b[0m\n\u001b[0;32m----> 4\u001b[0;31m     \u001b[0mprint\u001b[0m\u001b[0;34m(\u001b[0m\u001b[0manswer\u001b[0m\u001b[0;34m[\u001b[0m\u001b[0;34m'features'\u001b[0m\u001b[0;34m]\u001b[0m\u001b[0;34m[\u001b[0m\u001b[0;34m'geometry'\u001b[0m\u001b[0;34m]\u001b[0m\u001b[0;34m)\u001b[0m\u001b[0;34m\u001b[0m\u001b[0;34m\u001b[0m\u001b[0m\n\u001b[0m\u001b[1;32m      5\u001b[0m     \u001b[0mdf_json\u001b[0m \u001b[0;34m=\u001b[0m \u001b[0mpd\u001b[0m\u001b[0;34m.\u001b[0m\u001b[0mDataFrame\u001b[0m\u001b[0;34m(\u001b[0m\u001b[0manswer\u001b[0m\u001b[0;34m[\u001b[0m\u001b[0;34m'features'\u001b[0m\u001b[0;34m]\u001b[0m\u001b[0;34m)\u001b[0m\u001b[0;34m\u001b[0m\u001b[0;34m\u001b[0m\u001b[0m\n\u001b[1;32m      6\u001b[0m     \u001b[0;32mreturn\u001b[0m \u001b[0mdf_json\u001b[0m\u001b[0;34m\u001b[0m\u001b[0;34m\u001b[0m\u001b[0m\n",
      "\u001b[0;31mTypeError\u001b[0m: list indices must be integers or slices, not str"
     ]
    }
   ],
   "source": [
    "df_json = json_to_df('https://geo.datav.aliyun.com/areas/bound/310000_full.json')"
   ]
  },
  {
   "cell_type": "markdown",
   "metadata": {},
   "source": [
    "检验"
   ]
  },
  {
   "cell_type": "code",
   "execution_count": 15,
   "metadata": {},
   "outputs": [
    {
     "data": {
      "text/html": [
       "<div>\n",
       "<style scoped>\n",
       "    .dataframe tbody tr th:only-of-type {\n",
       "        vertical-align: middle;\n",
       "    }\n",
       "\n",
       "    .dataframe tbody tr th {\n",
       "        vertical-align: top;\n",
       "    }\n",
       "\n",
       "    .dataframe thead th {\n",
       "        text-align: right;\n",
       "    }\n",
       "</style>\n",
       "<table border=\"1\" class=\"dataframe\">\n",
       "  <thead>\n",
       "    <tr style=\"text-align: right;\">\n",
       "      <th></th>\n",
       "      <th>geometry</th>\n",
       "      <th>properties</th>\n",
       "      <th>type</th>\n",
       "    </tr>\n",
       "  </thead>\n",
       "  <tbody>\n",
       "    <tr>\n",
       "      <th>0</th>\n",
       "      <td>{'type': 'MultiPolygon', 'coordinates': [[[[12...</td>\n",
       "      <td>{'adcode': 310101, 'name': '黄浦区', 'center': [1...</td>\n",
       "      <td>Feature</td>\n",
       "    </tr>\n",
       "    <tr>\n",
       "      <th>1</th>\n",
       "      <td>{'type': 'MultiPolygon', 'coordinates': [[[[12...</td>\n",
       "      <td>{'adcode': 310104, 'name': '徐汇区', 'center': [1...</td>\n",
       "      <td>Feature</td>\n",
       "    </tr>\n",
       "    <tr>\n",
       "      <th>2</th>\n",
       "      <td>{'type': 'MultiPolygon', 'coordinates': [[[[12...</td>\n",
       "      <td>{'adcode': 310105, 'name': '长宁区', 'center': [1...</td>\n",
       "      <td>Feature</td>\n",
       "    </tr>\n",
       "    <tr>\n",
       "      <th>3</th>\n",
       "      <td>{'type': 'MultiPolygon', 'coordinates': [[[[12...</td>\n",
       "      <td>{'adcode': 310106, 'name': '静安区', 'center': [1...</td>\n",
       "      <td>Feature</td>\n",
       "    </tr>\n",
       "    <tr>\n",
       "      <th>4</th>\n",
       "      <td>{'type': 'MultiPolygon', 'coordinates': [[[[12...</td>\n",
       "      <td>{'adcode': 310107, 'name': '普陀区', 'center': [1...</td>\n",
       "      <td>Feature</td>\n",
       "    </tr>\n",
       "  </tbody>\n",
       "</table>\n",
       "</div>"
      ],
      "text/plain": [
       "                                            geometry  \\\n",
       "0  {'type': 'MultiPolygon', 'coordinates': [[[[12...   \n",
       "1  {'type': 'MultiPolygon', 'coordinates': [[[[12...   \n",
       "2  {'type': 'MultiPolygon', 'coordinates': [[[[12...   \n",
       "3  {'type': 'MultiPolygon', 'coordinates': [[[[12...   \n",
       "4  {'type': 'MultiPolygon', 'coordinates': [[[[12...   \n",
       "\n",
       "                                          properties     type  \n",
       "0  {'adcode': 310101, 'name': '黄浦区', 'center': [1...  Feature  \n",
       "1  {'adcode': 310104, 'name': '徐汇区', 'center': [1...  Feature  \n",
       "2  {'adcode': 310105, 'name': '长宁区', 'center': [1...  Feature  \n",
       "3  {'adcode': 310106, 'name': '静安区', 'center': [1...  Feature  \n",
       "4  {'adcode': 310107, 'name': '普陀区', 'center': [1...  Feature  "
      ]
     },
     "execution_count": 15,
     "metadata": {},
     "output_type": "execute_result"
    }
   ],
   "source": [
    "df_json.head()"
   ]
  },
  {
   "cell_type": "code",
   "execution_count": 23,
   "metadata": {},
   "outputs": [
    {
     "name": "stdout",
     "output_type": "stream",
     "text": [
      "<class 'pandas.core.frame.DataFrame'>\n",
      "RangeIndex: 16 entries, 0 to 15\n",
      "Data columns (total 3 columns):\n",
      "geometry      16 non-null object\n",
      "properties    16 non-null object\n",
      "type          16 non-null object\n",
      "dtypes: object(3)\n",
      "memory usage: 464.0+ bytes\n"
     ]
    }
   ],
   "source": [
    "df_json.info()"
   ]
  },
  {
   "cell_type": "code",
   "execution_count": 25,
   "metadata": {},
   "outputs": [],
   "source": [
    "url = 'https://geo.datav.aliyun.com/areas/bound/310000_full.json'\n",
    "reponse = requests.get(url)\n",
    "with open(url.split('/')[-1], mode='wb') as file:\n",
    "    file.write(reponse.content)"
   ]
  },
  {
   "cell_type": "markdown",
   "metadata": {},
   "source": [
    "方法2：\n",
    "1. 通过在http://datav.aliyun.com/tools/atlas/#&lat=45.10454630976873&lng=106.94091796875&zoom=5 下载对应的城市json数据，该文件格式可以被tableau识别为geojson格式\n",
    "2. 使用geojson_utils.py工具，下载和使用方法：https://github.com/brandonxiang/geojson-python-utils/blob/develop/README_CN.md\n",
    "3. 处理原始数据集，通过`add_adcode`增加区号内容列adcode，目的是作为唯一值，在tableau与geojson文件联合。"
   ]
  },
  {
   "cell_type": "code",
   "execution_count": 30,
   "metadata": {},
   "outputs": [],
   "source": [
    "from geojson_utils import point_in_multipolygon"
   ]
  },
  {
   "cell_type": "code",
   "execution_count": 24,
   "metadata": {},
   "outputs": [
    {
     "name": "stdout",
     "output_type": "stream",
     "text": [
      "False\n"
     ]
    }
   ],
   "source": [
    "in_str = '{\"type\": \"Point\", \"coordinates\": [121.459, 31.229]}'\n",
    "box_str = '{\"type\": \"Polygon\",\"coordinates\": [[[121.49483,31.24221],[121.49349,31.24017],[121.49349,31.23615],[121.50672,31.22314],[121.50984,31.21674],[121.50925,31.21211],[121.50132,31.19974],[121.49597,31.19381],[121.49324,31.19216],[121.47598,31.18789],[121.47446,31.19022],[121.47036,31.19122],[121.46687,31.20426],[121.46227,31.20317],[121.46123,31.21172],[121.45676,31.2239],[121.46749,31.22387],[121.46632,31.23431],[121.46297,31.2414],[121.46956,31.23921],[121.4756,31.24149],[121.48058,31.24017],[121.48697,31.24424],[121.49483,31.24221]]]}'\n",
    "in_box = json.loads(in_str)\n",
    "box = json.loads(box_str)\n",
    "print(point_in_polygon(in_box, box))"
   ]
  },
  {
   "cell_type": "code",
   "execution_count": 31,
   "metadata": {},
   "outputs": [
    {
     "name": "stdout",
     "output_type": "stream",
     "text": [
      "{'type': 'MultiPolygon', 'coordinates': [[[[121.475403, 31.188004], [121.474777, 31.190233], [121.470328, 31.191252], [121.469563, 31.196512], [121.46663, 31.204347], [121.46225, 31.20297], [121.461555, 31.210194], [121.460707, 31.213488], [121.457689, 31.220184], [121.456758, 31.223898], [121.467492, 31.223874], [121.466226, 31.234641], [121.462987, 31.241372], [121.468534, 31.23948], [121.470773, 31.239444], [121.475764, 31.241492], [121.479977, 31.240115], [121.483008, 31.241995], [121.485761, 31.244019], [121.487777, 31.244198], [121.494909, 31.242366], [121.493102, 31.238282], [121.494381, 31.234605], [121.499998, 31.229994], [121.506477, 31.223622], [121.509605, 31.217908], [121.510036, 31.214099], [121.50524, 31.205486], [121.500638, 31.198608], [121.496008, 31.193648], [121.489529, 31.191072], [121.475403, 31.188004]]]]}\n"
     ]
    }
   ],
   "source": [
    "with open(\"310000_full.json\",'r') as load_f:\n",
    "     load_dict = json.load(load_f)\n",
    "     print(load_dict['features'][0]['geometry'])"
   ]
  },
  {
   "cell_type": "code",
   "execution_count": 32,
   "metadata": {},
   "outputs": [],
   "source": [
    "def add_adcode(df):\n",
    "    start_time = time.time()\n",
    "    df = df.apply(lambda x: is_inarea(x), axis = 1)\n",
    "    end_time = time.time()\n",
    "    print(\"add_adcode()用时：\" + str((end_time - start_time)/60) + \"分钟\")\n",
    "    return df"
   ]
  },
  {
   "cell_type": "code",
   "execution_count": 33,
   "metadata": {},
   "outputs": [],
   "source": [
    "def is_inarea(data):\n",
    "    for i in range(len(load_dict['features'])):\n",
    "        loc_str ='{\"type\": \"Point\", \"coordinates\": [' +  str(data.start_location_x) + ', ' + str(data.start_location_y) + ']}'\n",
    "        box_str = json.dumps(load_dict['features'][i]['geometry'])\n",
    "        in_box = json.loads(loc_str)\n",
    "        box = json.loads(box_str)\n",
    "        if point_in_multipolygon(in_box, box):\n",
    "            data['adcode'] = load_dict['features'][i]['properties']['adcode']\n",
    "            data['dis_name'] = load_dict['features'][i]['properties']['name']\n",
    "    return data"
   ]
  },
  {
   "cell_type": "code",
   "execution_count": 34,
   "metadata": {},
   "outputs": [
    {
     "name": "stdout",
     "output_type": "stream",
     "text": [
      "add_adcode()用时：16.185615118344625分钟\n"
     ]
    }
   ],
   "source": [
    "df = add_adcode(df)"
   ]
  },
  {
   "cell_type": "code",
   "execution_count": 35,
   "metadata": {},
   "outputs": [
    {
     "data": {
      "text/html": [
       "<div>\n",
       "<style scoped>\n",
       "    .dataframe tbody tr th:only-of-type {\n",
       "        vertical-align: middle;\n",
       "    }\n",
       "\n",
       "    .dataframe tbody tr th {\n",
       "        vertical-align: top;\n",
       "    }\n",
       "\n",
       "    .dataframe thead th {\n",
       "        text-align: right;\n",
       "    }\n",
       "</style>\n",
       "<table border=\"1\" class=\"dataframe\">\n",
       "  <thead>\n",
       "    <tr style=\"text-align: right;\">\n",
       "      <th></th>\n",
       "      <th>adcode</th>\n",
       "      <th>bikeid</th>\n",
       "      <th>dis_name</th>\n",
       "      <th>end_location_x</th>\n",
       "      <th>end_location_y</th>\n",
       "      <th>end_time</th>\n",
       "      <th>orderid</th>\n",
       "      <th>start_location_x</th>\n",
       "      <th>start_location_y</th>\n",
       "      <th>start_time</th>\n",
       "      <th>state</th>\n",
       "      <th>track</th>\n",
       "      <th>user_level</th>\n",
       "      <th>userid</th>\n",
       "    </tr>\n",
       "  </thead>\n",
       "  <tbody>\n",
       "  </tbody>\n",
       "</table>\n",
       "</div>"
      ],
      "text/plain": [
       "Empty DataFrame\n",
       "Columns: [adcode, bikeid, dis_name, end_location_x, end_location_y, end_time, orderid, start_location_x, start_location_y, start_time, state, track, user_level, userid]\n",
       "Index: []"
      ]
     },
     "execution_count": 35,
     "metadata": {},
     "output_type": "execute_result"
    }
   ],
   "source": [
    "df[df['adcode'].isnull().values==True]"
   ]
  },
  {
   "cell_type": "code",
   "execution_count": 37,
   "metadata": {},
   "outputs": [
    {
     "data": {
      "text/html": [
       "<div>\n",
       "<style scoped>\n",
       "    .dataframe tbody tr th:only-of-type {\n",
       "        vertical-align: middle;\n",
       "    }\n",
       "\n",
       "    .dataframe tbody tr th {\n",
       "        vertical-align: top;\n",
       "    }\n",
       "\n",
       "    .dataframe thead th {\n",
       "        text-align: right;\n",
       "    }\n",
       "</style>\n",
       "<table border=\"1\" class=\"dataframe\">\n",
       "  <thead>\n",
       "    <tr style=\"text-align: right;\">\n",
       "      <th></th>\n",
       "      <th>adcode</th>\n",
       "      <th>bikeid</th>\n",
       "      <th>dis_name</th>\n",
       "      <th>end_location_x</th>\n",
       "      <th>end_location_y</th>\n",
       "      <th>end_time</th>\n",
       "      <th>orderid</th>\n",
       "      <th>start_location_x</th>\n",
       "      <th>start_location_y</th>\n",
       "      <th>start_time</th>\n",
       "      <th>state</th>\n",
       "      <th>track</th>\n",
       "      <th>user_level</th>\n",
       "      <th>userid</th>\n",
       "    </tr>\n",
       "  </thead>\n",
       "  <tbody>\n",
       "    <tr>\n",
       "      <th>0</th>\n",
       "      <td>310113</td>\n",
       "      <td>158357</td>\n",
       "      <td>宝山区</td>\n",
       "      <td>121.357</td>\n",
       "      <td>31.388</td>\n",
       "      <td>2016-08-20 07:04</td>\n",
       "      <td>78387</td>\n",
       "      <td>121.348</td>\n",
       "      <td>31.389</td>\n",
       "      <td>2016-08-20 06:57</td>\n",
       "      <td>6</td>\n",
       "      <td>121.347,31.392#121.348,31.389#121.349,31.390#121.350,31.390#121.351,31.390#121.351,31.391#121.352,31.391#121.353,31.391#121.353,31.394#121.354,31.391#121.355,31.391#121.356,31.389#121.356,31.390#121.356,31.391#121.357,31.388#121.357,31.389</td>\n",
       "      <td>老客户</td>\n",
       "      <td>10080</td>\n",
       "    </tr>\n",
       "    <tr>\n",
       "      <th>1</th>\n",
       "      <td>310113</td>\n",
       "      <td>138691</td>\n",
       "      <td>宝山区</td>\n",
       "      <td>121.440</td>\n",
       "      <td>31.331</td>\n",
       "      <td>2016-08-17 07:13</td>\n",
       "      <td>256597</td>\n",
       "      <td>121.437</td>\n",
       "      <td>31.330</td>\n",
       "      <td>2016-08-17 07:08</td>\n",
       "      <td>6</td>\n",
       "      <td>121.437,31.329#121.437,31.330#121.438,31.330#121.439,31.330#121.440,31.330#121.440,31.331</td>\n",
       "      <td>老客户</td>\n",
       "      <td>10080</td>\n",
       "    </tr>\n",
       "    <tr>\n",
       "      <th>2</th>\n",
       "      <td>310101</td>\n",
       "      <td>94634</td>\n",
       "      <td>黄浦区</td>\n",
       "      <td>121.463</td>\n",
       "      <td>31.225</td>\n",
       "      <td>2016-08-05 17:13</td>\n",
       "      <td>448255</td>\n",
       "      <td>121.480</td>\n",
       "      <td>31.226</td>\n",
       "      <td>2016-08-05 16:59</td>\n",
       "      <td>6</td>\n",
       "      <td>121.463,31.224#121.463,31.225#121.464,31.224#121.465,31.224#121.466,31.224#121.467,31.223#121.467,31.224#121.468,31.223#121.469,31.223#121.470,31.223#121.471,31.223#121.472,31.223#121.473,31.223#121.473,31.224#121.474,31.224#121.475,31.224#121.476,31.224#121.476,31.225#121.477,31.225#121.478,31.226#121.479,31.226#121.480,31.226</td>\n",
       "      <td>老客户</td>\n",
       "      <td>10080</td>\n",
       "    </tr>\n",
       "    <tr>\n",
       "      <th>3</th>\n",
       "      <td>310101</td>\n",
       "      <td>1663</td>\n",
       "      <td>黄浦区</td>\n",
       "      <td>121.477</td>\n",
       "      <td>31.221</td>\n",
       "      <td>2016-08-05 14:41</td>\n",
       "      <td>283591</td>\n",
       "      <td>121.478</td>\n",
       "      <td>31.215</td>\n",
       "      <td>2016-08-05 14:35</td>\n",
       "      <td>6</td>\n",
       "      <td>121.477,31.220#121.477,31.221#121.478,31.215#121.478,31.216#121.478,31.217#121.478,31.218#121.478,31.219#121.478,31.220</td>\n",
       "      <td>老客户</td>\n",
       "      <td>10080</td>\n",
       "    </tr>\n",
       "    <tr>\n",
       "      <th>4</th>\n",
       "      <td>310109</td>\n",
       "      <td>171434</td>\n",
       "      <td>虹口区</td>\n",
       "      <td>121.475</td>\n",
       "      <td>31.288</td>\n",
       "      <td>2016-08-12 18:02</td>\n",
       "      <td>1260579</td>\n",
       "      <td>121.482</td>\n",
       "      <td>31.281</td>\n",
       "      <td>2016-08-12 17:54</td>\n",
       "      <td>6</td>\n",
       "      <td>121.475,31.288#121.476,31.288#121.477,31.286#121.477,31.287#121.477,31.288#121.478,31.286#121.479,31.286#121.480,31.285#121.480,31.286#121.481,31.282#121.481,31.283#121.481,31.284#121.481,31.285#121.482,31.282</td>\n",
       "      <td>老客户</td>\n",
       "      <td>10080</td>\n",
       "    </tr>\n",
       "  </tbody>\n",
       "</table>\n",
       "</div>"
      ],
      "text/plain": [
       "   adcode  bikeid dis_name  end_location_x  end_location_y          end_time  \\\n",
       "0  310113  158357      宝山区         121.357          31.388  2016-08-20 07:04   \n",
       "1  310113  138691      宝山区         121.440          31.331  2016-08-17 07:13   \n",
       "2  310101   94634      黄浦区         121.463          31.225  2016-08-05 17:13   \n",
       "3  310101    1663      黄浦区         121.477          31.221  2016-08-05 14:41   \n",
       "4  310109  171434      虹口区         121.475          31.288  2016-08-12 18:02   \n",
       "\n",
       "   orderid  start_location_x  start_location_y        start_time  state  \\\n",
       "0    78387           121.348            31.389  2016-08-20 06:57      6   \n",
       "1   256597           121.437            31.330  2016-08-17 07:08      6   \n",
       "2   448255           121.480            31.226  2016-08-05 16:59      6   \n",
       "3   283591           121.478            31.215  2016-08-05 14:35      6   \n",
       "4  1260579           121.482            31.281  2016-08-12 17:54      6   \n",
       "\n",
       "                                                                                                                                                                                                                                                                                                                                       track  \\\n",
       "0                                                                                            121.347,31.392#121.348,31.389#121.349,31.390#121.350,31.390#121.351,31.390#121.351,31.391#121.352,31.391#121.353,31.391#121.353,31.394#121.354,31.391#121.355,31.391#121.356,31.389#121.356,31.390#121.356,31.391#121.357,31.388#121.357,31.389   \n",
       "1                                                                                                                                                                                                                                                  121.437,31.329#121.437,31.330#121.438,31.330#121.439,31.330#121.440,31.330#121.440,31.331   \n",
       "2  121.463,31.224#121.463,31.225#121.464,31.224#121.465,31.224#121.466,31.224#121.467,31.223#121.467,31.224#121.468,31.223#121.469,31.223#121.470,31.223#121.471,31.223#121.472,31.223#121.473,31.223#121.473,31.224#121.474,31.224#121.475,31.224#121.476,31.224#121.476,31.225#121.477,31.225#121.478,31.226#121.479,31.226#121.480,31.226   \n",
       "3                                                                                                                                                                                                                    121.477,31.220#121.477,31.221#121.478,31.215#121.478,31.216#121.478,31.217#121.478,31.218#121.478,31.219#121.478,31.220   \n",
       "4                                                                                                                          121.475,31.288#121.476,31.288#121.477,31.286#121.477,31.287#121.477,31.288#121.478,31.286#121.479,31.286#121.480,31.285#121.480,31.286#121.481,31.282#121.481,31.283#121.481,31.284#121.481,31.285#121.482,31.282   \n",
       "\n",
       "  user_level  userid  \n",
       "0        老客户   10080  \n",
       "1        老客户   10080  \n",
       "2        老客户   10080  \n",
       "3        老客户   10080  \n",
       "4        老客户   10080  "
      ]
     },
     "execution_count": 37,
     "metadata": {},
     "output_type": "execute_result"
    }
   ],
   "source": [
    "df.head()"
   ]
  },
  {
   "cell_type": "code",
   "execution_count": 36,
   "metadata": {},
   "outputs": [],
   "source": [
    "df.to_csv('mobike_shanghai_sample_updated.csv', index=False)"
   ]
  },
  {
   "cell_type": "code",
   "execution_count": null,
   "metadata": {},
   "outputs": [],
   "source": []
  }
 ],
 "metadata": {
  "kernelspec": {
   "display_name": "Python 3",
   "language": "python",
   "name": "python3"
  },
  "language_info": {
   "codemirror_mode": {
    "name": "ipython",
    "version": 3
   },
   "file_extension": ".py",
   "mimetype": "text/x-python",
   "name": "python",
   "nbconvert_exporter": "python",
   "pygments_lexer": "ipython3",
   "version": "3.7.1"
  }
 },
 "nbformat": 4,
 "nbformat_minor": 2
}
